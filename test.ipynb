{
 "cells": [
  {
   "cell_type": "code",
   "execution_count": 4,
   "metadata": {},
   "outputs": [],
   "source": [
    "import pandas as pd\n",
    "# # # start - read in BTC data # # #\n",
    "datasource = relevant_words.csv\n",
    "relevant_words_df = pd.read_csv({}.format(\n",
    "    datasource), index_col=0)"
   ]
  },
  {
   "cell_type": "code",
   "execution_count": 6,
   "metadata": {},
   "outputs": [
    {
     "data": {
      "text/plain": [
       "Index(['good', ' stop', 'think', ' price', ' buy', 'take', ' money',\n",
       "       ' bitcoin', 'BTC', ' long', ' trading', 'trade', ' short', ' market',\n",
       "       'BitMEX', ' money.1', ' position', 'good.1', ' trader', ' buy.1', 'low',\n",
       "       ' ETH', ' price.1', 'bullish', ' high', ' close', 'buying', ' spot',\n",
       "       ' ThinkingBitmex', 'bear', ' level', ' chart', 'range', ' profit',\n",
       "       ' volume', 'dip', ' bid', ' bottom', 'liquidity', ' hedge', ' top',\n",
       "       'coin', ' call', ' sell', 'exchange', ' SNX', ' orderDeFi', ' bought',\n",
       "       ' volatility', 'risk', ' bounce', ' ATH', 'PnL', ' size', ' million',\n",
       "       'selling', ' quarter', ' portfolio', 'signal', ' bull', ' SOL', 'FTT',\n",
       "       ' shorting', ' 10k', 'bearish', ' option', ' asset', 'leverage',\n",
       "       ' open', ' 5k', 'bad'],\n",
       "      dtype='object')"
      ]
     },
     "execution_count": 6,
     "metadata": {},
     "output_type": "execute_result"
    }
   ],
   "source": [
    "relevant_words_df.columns"
   ]
  },
  {
   "cell_type": "code",
   "execution_count": 9,
   "metadata": {},
   "outputs": [
    {
     "data": {
      "text/plain": [
       "['good',\n",
       " ' stop',\n",
       " 'think',\n",
       " ' price',\n",
       " ' buy',\n",
       " 'take',\n",
       " ' money',\n",
       " ' bitcoin',\n",
       " 'BTC',\n",
       " ' long',\n",
       " ' trading',\n",
       " 'trade',\n",
       " ' short',\n",
       " ' market',\n",
       " 'BitMEX',\n",
       " ' money.1',\n",
       " ' position',\n",
       " 'good.1',\n",
       " ' trader',\n",
       " ' buy.1',\n",
       " 'low',\n",
       " ' ETH',\n",
       " ' price.1',\n",
       " 'bullish',\n",
       " ' high',\n",
       " ' close',\n",
       " 'buying',\n",
       " ' spot',\n",
       " ' ThinkingBitmex',\n",
       " 'bear',\n",
       " ' level',\n",
       " ' chart',\n",
       " 'range',\n",
       " ' profit',\n",
       " ' volume',\n",
       " 'dip',\n",
       " ' bid',\n",
       " ' bottom',\n",
       " 'liquidity',\n",
       " ' hedge',\n",
       " ' top',\n",
       " 'coin',\n",
       " ' call',\n",
       " ' sell',\n",
       " 'exchange',\n",
       " ' SNX',\n",
       " ' orderDeFi',\n",
       " ' bought',\n",
       " ' volatility',\n",
       " 'risk',\n",
       " ' bounce',\n",
       " ' ATH',\n",
       " 'PnL',\n",
       " ' size',\n",
       " ' million',\n",
       " 'selling',\n",
       " ' quarter',\n",
       " ' portfolio',\n",
       " 'signal',\n",
       " ' bull',\n",
       " ' SOL',\n",
       " 'FTT',\n",
       " ' shorting',\n",
       " ' 10k',\n",
       " 'bearish',\n",
       " ' option',\n",
       " ' asset',\n",
       " 'leverage',\n",
       " ' open',\n",
       " ' 5k',\n",
       " 'bad']"
      ]
     },
     "execution_count": 9,
     "metadata": {},
     "output_type": "execute_result"
    }
   ],
   "source": [
    "relevant_words_df.columns.tolist()\n"
   ]
  },
  {
   "cell_type": "code",
   "execution_count": null,
   "metadata": {},
   "outputs": [],
   "source": [
    "good, stop,\n",
    "        think, price, buy,\n",
    "        take, money, bitcoin,\n",
    "        BTC, long, trading,\n",
    "        trade, short, market,\n",
    "        BitMEX, money, position,\n",
    "        good, trader, buy,\n",
    "        low, ETH, price,\n",
    "        bullish, high, close,\n",
    "        buying, spot, ThinkingBitmex,\n",
    "        bear, level, chart,\n",
    "        range, profit, volume,\n",
    "        dip, bid, bottom,\n",
    "        liquidity, hedge, top,\n",
    "        coin, call, sell,\n",
    "        exchange, SNX, order\n",
    "        DeFi, bought, volatility,\n",
    "        risk, bounce, ATH,\n",
    "        PnL, size, million,\n",
    "        selling, quarter, portfolio,\n",
    "        signal, bull, SOL,\n",
    "        FTT, shorting, 10k,\n",
    "        bearish, option, asset,\n",
    "        leverage, open, 5k,\n",
    "        bad"
   ]
  },
  {
   "cell_type": "code",
   "execution_count": 30,
   "metadata": {},
   "outputs": [],
   "source": [
    "import csv\n"
   ]
  },
  {
   "cell_type": "code",
   "execution_count": 76,
   "metadata": {},
   "outputs": [],
   "source": [
    "results=[]\n",
    "with open('relevant_words.csv', newline='') as inputfile:\n",
    "    for row in csv.reader(inputfile):\n",
    "        results.append(row)"
   ]
  },
  {
   "cell_type": "code",
   "execution_count": 77,
   "metadata": {},
   "outputs": [],
   "source": [
    "results[0].append(\"okay\")"
   ]
  },
  {
   "cell_type": "code",
   "execution_count": 78,
   "metadata": {},
   "outputs": [],
   "source": [
    "with open('relevant_words.csv', 'w') as f: \n",
    "    write = csv.writer(f) \n",
    "    write.writerow(results[0]) "
   ]
  },
  {
   "cell_type": "code",
   "execution_count": null,
   "metadata": {},
   "outputs": [],
   "source": []
  },
  {
   "cell_type": "code",
   "execution_count": null,
   "metadata": {},
   "outputs": [],
   "source": []
  }
 ],
 "metadata": {
  "interpreter": {
   "hash": "43f82cd4cb96a440704902f5d6ad1c0a1208589500b37b572d871d157e2519a1"
  },
  "kernelspec": {
   "display_name": "Python 2.7.13 64-bit",
   "language": "python",
   "name": "python3"
  },
  "language_info": {
   "codemirror_mode": {
    "name": "ipython",
    "version": 3
   },
   "file_extension": ".py",
   "mimetype": "text/x-python",
   "name": "python",
   "nbconvert_exporter": "python",
   "pygments_lexer": "ipython3",
   "version": "3.8.5"
  },
  "orig_nbformat": 4
 },
 "nbformat": 4,
 "nbformat_minor": 2
}
